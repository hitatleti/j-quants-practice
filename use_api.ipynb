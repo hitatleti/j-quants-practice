{
 "cells": [
  {
   "attachments": {},
   "cell_type": "markdown",
   "metadata": {},
   "source": [
    "### 1.　J-Quants API にアクセス"
   ]
  },
  {
   "cell_type": "code",
   "execution_count": null,
   "metadata": {},
   "outputs": [],
   "source": [
    "pip install jquants-api-client"
   ]
  },
  {
   "attachments": {},
   "cell_type": "markdown",
   "metadata": {},
   "source": [
    "#### 1.0　データ取得の流れ"
   ]
  },
  {
   "attachments": {},
   "cell_type": "markdown",
   "metadata": {},
   "source": [
    "1. メールアドレスとパスワードを用いてWeb画面かAPIでリフレッシュトークンを取得する。\n",
    "2. リフレッシュトークンを用いて専用APIでIDトークンを取得する。\n",
    "3. IDトークンを用いて、各種情報を取得するAPIを利用する。"
   ]
  },
  {
   "attachments": {},
   "cell_type": "markdown",
   "metadata": {},
   "source": [
    "#### 1.1　tokenの取得"
   ]
  },
  {
   "attachments": {},
   "cell_type": "markdown",
   "metadata": {},
   "source": [
    "##### 1.1.1　リフレッシュトークンの取得"
   ]
  },
  {
   "cell_type": "code",
   "execution_count": 3,
   "metadata": {},
   "outputs": [],
   "source": [
    "import json\n",
    "import requests\n",
    "import pandas as pd\n",
    "\n",
    "\n",
    "# POSTするデータを作る。\n",
    "account_data = json.dumps({\n",
    "        \"mailaddress\": \"your-email\",\n",
    "        \"password\": \"your-pass\",\n",
    "    })\n",
    "\n",
    "auth_user_url = \"https://api.jquants.com/v1/token/auth_user\"\n",
    "\n",
    "auth_result = requests.post(auth_user_url, data=account_data)\n",
    "refresh_token = auth_result.json()[\"refreshToken\"]"
   ]
  },
  {
   "attachments": {},
   "cell_type": "markdown",
   "metadata": {},
   "source": [
    "##### 1.1.2　IDトークンの取得"
   ]
  },
  {
   "cell_type": "code",
   "execution_count": 4,
   "metadata": {},
   "outputs": [],
   "source": [
    "auth_refresh_url=f\"https://api.jquants.com/v1/token/auth_refresh?refreshtoken={refresh_token}\"\n",
    "refresh_result = requests.post(auth_refresh_url)\n",
    "id_token = refresh_result.json()[\"idToken\"]"
   ]
  },
  {
   "attachments": {},
   "cell_type": "markdown",
   "metadata": {},
   "source": [
    "### 2. 各種データの取得"
   ]
  },
  {
   "attachments": {},
   "cell_type": "markdown",
   "metadata": {},
   "source": [
    "#### 2.1　上場銘柄一覧"
   ]
  },
  {
   "cell_type": "code",
   "execution_count": 5,
   "metadata": {},
   "outputs": [],
   "source": [
    "import requests\n",
    "import json\n",
    "\n",
    "idToken = id_token\n",
    "headers = {'Authorization': 'Bearer {}'.format(idToken)}\n",
    "company = requests.get(\"https://api.jquants.com/v1/listed/info\", headers=headers)"
   ]
  },
  {
   "cell_type": "code",
   "execution_count": 6,
   "metadata": {},
   "outputs": [
    {
     "data": {
      "text/html": [
       "<div>\n",
       "<style scoped>\n",
       "    .dataframe tbody tr th:only-of-type {\n",
       "        vertical-align: middle;\n",
       "    }\n",
       "\n",
       "    .dataframe tbody tr th {\n",
       "        vertical-align: top;\n",
       "    }\n",
       "\n",
       "    .dataframe thead th {\n",
       "        text-align: right;\n",
       "    }\n",
       "</style>\n",
       "<table border=\"1\" class=\"dataframe\">\n",
       "  <thead>\n",
       "    <tr style=\"text-align: right;\">\n",
       "      <th></th>\n",
       "      <th>Date</th>\n",
       "      <th>Code</th>\n",
       "      <th>CompanyName</th>\n",
       "      <th>CompanyNameEnglish</th>\n",
       "      <th>Sector17Code</th>\n",
       "      <th>Sector17CodeName</th>\n",
       "      <th>Sector33Code</th>\n",
       "      <th>Sector33CodeName</th>\n",
       "      <th>ScaleCategory</th>\n",
       "      <th>MarketCode</th>\n",
       "      <th>MarketCodeName</th>\n",
       "    </tr>\n",
       "  </thead>\n",
       "  <tbody>\n",
       "    <tr>\n",
       "      <th>0</th>\n",
       "      <td>2023-02-10</td>\n",
       "      <td>13010</td>\n",
       "      <td>極洋</td>\n",
       "      <td>KYOKUYO CO.,LTD.</td>\n",
       "      <td>1</td>\n",
       "      <td>食品</td>\n",
       "      <td>0050</td>\n",
       "      <td>水産・農林業</td>\n",
       "      <td>TOPIX Small 2</td>\n",
       "      <td>0111</td>\n",
       "      <td>プライム</td>\n",
       "    </tr>\n",
       "    <tr>\n",
       "      <th>1</th>\n",
       "      <td>2023-02-10</td>\n",
       "      <td>13050</td>\n",
       "      <td>大和アセットマネジメント株式会社　ダイワ上場投信−トピックス</td>\n",
       "      <td>Daiwa ETF-TOPIX</td>\n",
       "      <td>99</td>\n",
       "      <td>その他</td>\n",
       "      <td>9999</td>\n",
       "      <td>その他</td>\n",
       "      <td>-</td>\n",
       "      <td>0109</td>\n",
       "      <td>その他</td>\n",
       "    </tr>\n",
       "    <tr>\n",
       "      <th>2</th>\n",
       "      <td>2023-02-10</td>\n",
       "      <td>13060</td>\n",
       "      <td>野村アセットマネジメント株式会社　ＮＥＸＴ　ＦＵＮＤＳ　ＴＯＰＩＸ連動型上場投信</td>\n",
       "      <td>NEXT FUNDS TOPIX Exchange Traded Fund</td>\n",
       "      <td>99</td>\n",
       "      <td>その他</td>\n",
       "      <td>9999</td>\n",
       "      <td>その他</td>\n",
       "      <td>-</td>\n",
       "      <td>0109</td>\n",
       "      <td>その他</td>\n",
       "    </tr>\n",
       "    <tr>\n",
       "      <th>3</th>\n",
       "      <td>2023-02-10</td>\n",
       "      <td>13080</td>\n",
       "      <td>日興アセットマネジメント株式会社　　上場インデックスファンドＴＯＰＩＸ</td>\n",
       "      <td>Nikko Exchange Traded Index Fund TOPIX</td>\n",
       "      <td>99</td>\n",
       "      <td>その他</td>\n",
       "      <td>9999</td>\n",
       "      <td>その他</td>\n",
       "      <td>-</td>\n",
       "      <td>0109</td>\n",
       "      <td>その他</td>\n",
       "    </tr>\n",
       "    <tr>\n",
       "      <th>4</th>\n",
       "      <td>2023-02-10</td>\n",
       "      <td>13090</td>\n",
       "      <td>野村アセットマネジメント株式会社　ＮＥＸＴ　ＦＵＮＤＳ　ＣｈｉｎａＡＭＣ・中国株式・上証５０...</td>\n",
       "      <td>NEXT FUNDS ChinaAMC SSE50 Index Exchange Trade...</td>\n",
       "      <td>99</td>\n",
       "      <td>その他</td>\n",
       "      <td>9999</td>\n",
       "      <td>その他</td>\n",
       "      <td>-</td>\n",
       "      <td>0109</td>\n",
       "      <td>その他</td>\n",
       "    </tr>\n",
       "  </tbody>\n",
       "</table>\n",
       "</div>"
      ],
      "text/plain": [
       "         Date   Code                                        CompanyName  \\\n",
       "0  2023-02-10  13010                                                 極洋   \n",
       "1  2023-02-10  13050                     大和アセットマネジメント株式会社　ダイワ上場投信−トピックス   \n",
       "2  2023-02-10  13060           野村アセットマネジメント株式会社　ＮＥＸＴ　ＦＵＮＤＳ　ＴＯＰＩＸ連動型上場投信   \n",
       "3  2023-02-10  13080                日興アセットマネジメント株式会社　　上場インデックスファンドＴＯＰＩＸ   \n",
       "4  2023-02-10  13090  野村アセットマネジメント株式会社　ＮＥＸＴ　ＦＵＮＤＳ　ＣｈｉｎａＡＭＣ・中国株式・上証５０...   \n",
       "\n",
       "                                  CompanyNameEnglish Sector17Code  \\\n",
       "0                                   KYOKUYO CO.,LTD.            1   \n",
       "1                                    Daiwa ETF-TOPIX           99   \n",
       "2              NEXT FUNDS TOPIX Exchange Traded Fund           99   \n",
       "3             Nikko Exchange Traded Index Fund TOPIX           99   \n",
       "4  NEXT FUNDS ChinaAMC SSE50 Index Exchange Trade...           99   \n",
       "\n",
       "  Sector17CodeName Sector33Code Sector33CodeName  ScaleCategory MarketCode  \\\n",
       "0               食品         0050           水産・農林業  TOPIX Small 2       0111   \n",
       "1              その他         9999              その他              -       0109   \n",
       "2              その他         9999              その他              -       0109   \n",
       "3              その他         9999              その他              -       0109   \n",
       "4              その他         9999              その他              -       0109   \n",
       "\n",
       "  MarketCodeName  \n",
       "0           プライム  \n",
       "1            その他  \n",
       "2            その他  \n",
       "3            その他  \n",
       "4            その他  "
      ]
     },
     "execution_count": 6,
     "metadata": {},
     "output_type": "execute_result"
    }
   ],
   "source": [
    "company_df = pd.DataFrame(company.json()['info'])\n",
    "company_df.head()"
   ]
  },
  {
   "attachments": {},
   "cell_type": "markdown",
   "metadata": {},
   "source": [
    "#### 2.1　株価四本値（/prices/daily_quotes）"
   ]
  },
  {
   "cell_type": "code",
   "execution_count": 7,
   "metadata": {},
   "outputs": [],
   "source": [
    "import requests\n",
    "import json\n",
    "\n",
    "idToken = id_token\n",
    "headers = {'Authorization': 'Bearer {}'.format(idToken)}\n",
    "daily_quotes = requests.get(\"https://api.jquants.com/v1/prices/daily_quotes?&code=13010&from=20220101&to=20221231\", headers=headers)"
   ]
  },
  {
   "cell_type": "code",
   "execution_count": 8,
   "metadata": {},
   "outputs": [],
   "source": [
    "daily_quotes_df = pd.DataFrame(daily_quotes.json()['daily_quotes'])"
   ]
  },
  {
   "cell_type": "code",
   "execution_count": 9,
   "metadata": {},
   "outputs": [
    {
     "data": {
      "text/html": [
       "<div>\n",
       "<style scoped>\n",
       "    .dataframe tbody tr th:only-of-type {\n",
       "        vertical-align: middle;\n",
       "    }\n",
       "\n",
       "    .dataframe tbody tr th {\n",
       "        vertical-align: top;\n",
       "    }\n",
       "\n",
       "    .dataframe thead th {\n",
       "        text-align: right;\n",
       "    }\n",
       "</style>\n",
       "<table border=\"1\" class=\"dataframe\">\n",
       "  <thead>\n",
       "    <tr style=\"text-align: right;\">\n",
       "      <th></th>\n",
       "      <th>Date</th>\n",
       "      <th>Code</th>\n",
       "      <th>Open</th>\n",
       "      <th>High</th>\n",
       "      <th>Low</th>\n",
       "      <th>Close</th>\n",
       "      <th>Volume</th>\n",
       "      <th>TurnoverValue</th>\n",
       "      <th>AdjustmentFactor</th>\n",
       "      <th>AdjustmentOpen</th>\n",
       "      <th>AdjustmentHigh</th>\n",
       "      <th>AdjustmentLow</th>\n",
       "      <th>AdjustmentClose</th>\n",
       "      <th>AdjustmentVolume</th>\n",
       "    </tr>\n",
       "  </thead>\n",
       "  <tbody>\n",
       "    <tr>\n",
       "      <th>0</th>\n",
       "      <td>2022-01-04</td>\n",
       "      <td>13010</td>\n",
       "      <td>3110.0</td>\n",
       "      <td>3110.0</td>\n",
       "      <td>3075.0</td>\n",
       "      <td>3085.0</td>\n",
       "      <td>9200.0</td>\n",
       "      <td>28436000.0</td>\n",
       "      <td>1.0</td>\n",
       "      <td>3110.0</td>\n",
       "      <td>3110.0</td>\n",
       "      <td>3075.0</td>\n",
       "      <td>3085.0</td>\n",
       "      <td>9200.0</td>\n",
       "    </tr>\n",
       "    <tr>\n",
       "      <th>1</th>\n",
       "      <td>2022-01-05</td>\n",
       "      <td>13010</td>\n",
       "      <td>3100.0</td>\n",
       "      <td>3115.0</td>\n",
       "      <td>3075.0</td>\n",
       "      <td>3110.0</td>\n",
       "      <td>6900.0</td>\n",
       "      <td>21394000.0</td>\n",
       "      <td>1.0</td>\n",
       "      <td>3100.0</td>\n",
       "      <td>3115.0</td>\n",
       "      <td>3075.0</td>\n",
       "      <td>3110.0</td>\n",
       "      <td>6900.0</td>\n",
       "    </tr>\n",
       "    <tr>\n",
       "      <th>2</th>\n",
       "      <td>2022-01-06</td>\n",
       "      <td>13010</td>\n",
       "      <td>3085.0</td>\n",
       "      <td>3115.0</td>\n",
       "      <td>3075.0</td>\n",
       "      <td>3075.0</td>\n",
       "      <td>9500.0</td>\n",
       "      <td>29362500.0</td>\n",
       "      <td>1.0</td>\n",
       "      <td>3085.0</td>\n",
       "      <td>3115.0</td>\n",
       "      <td>3075.0</td>\n",
       "      <td>3075.0</td>\n",
       "      <td>9500.0</td>\n",
       "    </tr>\n",
       "    <tr>\n",
       "      <th>3</th>\n",
       "      <td>2022-01-07</td>\n",
       "      <td>13010</td>\n",
       "      <td>3080.0</td>\n",
       "      <td>3115.0</td>\n",
       "      <td>3070.0</td>\n",
       "      <td>3070.0</td>\n",
       "      <td>11300.0</td>\n",
       "      <td>34835000.0</td>\n",
       "      <td>1.0</td>\n",
       "      <td>3080.0</td>\n",
       "      <td>3115.0</td>\n",
       "      <td>3070.0</td>\n",
       "      <td>3070.0</td>\n",
       "      <td>11300.0</td>\n",
       "    </tr>\n",
       "    <tr>\n",
       "      <th>4</th>\n",
       "      <td>2022-01-11</td>\n",
       "      <td>13010</td>\n",
       "      <td>3070.0</td>\n",
       "      <td>3090.0</td>\n",
       "      <td>3055.0</td>\n",
       "      <td>3085.0</td>\n",
       "      <td>10500.0</td>\n",
       "      <td>32281500.0</td>\n",
       "      <td>1.0</td>\n",
       "      <td>3070.0</td>\n",
       "      <td>3090.0</td>\n",
       "      <td>3055.0</td>\n",
       "      <td>3085.0</td>\n",
       "      <td>10500.0</td>\n",
       "    </tr>\n",
       "  </tbody>\n",
       "</table>\n",
       "</div>"
      ],
      "text/plain": [
       "         Date   Code    Open    High     Low   Close   Volume  TurnoverValue  \\\n",
       "0  2022-01-04  13010  3110.0  3110.0  3075.0  3085.0   9200.0     28436000.0   \n",
       "1  2022-01-05  13010  3100.0  3115.0  3075.0  3110.0   6900.0     21394000.0   \n",
       "2  2022-01-06  13010  3085.0  3115.0  3075.0  3075.0   9500.0     29362500.0   \n",
       "3  2022-01-07  13010  3080.0  3115.0  3070.0  3070.0  11300.0     34835000.0   \n",
       "4  2022-01-11  13010  3070.0  3090.0  3055.0  3085.0  10500.0     32281500.0   \n",
       "\n",
       "   AdjustmentFactor  AdjustmentOpen  AdjustmentHigh  AdjustmentLow  \\\n",
       "0               1.0          3110.0          3110.0         3075.0   \n",
       "1               1.0          3100.0          3115.0         3075.0   \n",
       "2               1.0          3085.0          3115.0         3075.0   \n",
       "3               1.0          3080.0          3115.0         3070.0   \n",
       "4               1.0          3070.0          3090.0         3055.0   \n",
       "\n",
       "   AdjustmentClose  AdjustmentVolume  \n",
       "0           3085.0            9200.0  \n",
       "1           3110.0            6900.0  \n",
       "2           3075.0            9500.0  \n",
       "3           3070.0           11300.0  \n",
       "4           3085.0           10500.0  "
      ]
     },
     "execution_count": 9,
     "metadata": {},
     "output_type": "execute_result"
    }
   ],
   "source": [
    "daily_quotes_df.head()"
   ]
  },
  {
   "cell_type": "code",
   "execution_count": null,
   "metadata": {},
   "outputs": [],
   "source": []
  }
 ],
 "metadata": {
  "kernelspec": {
   "display_name": "base",
   "language": "python",
   "name": "python3"
  },
  "language_info": {
   "codemirror_mode": {
    "name": "ipython",
    "version": 3
   },
   "file_extension": ".py",
   "mimetype": "text/x-python",
   "name": "python",
   "nbconvert_exporter": "python",
   "pygments_lexer": "ipython3",
   "version": "3.9.16"
  },
  "orig_nbformat": 4
 },
 "nbformat": 4,
 "nbformat_minor": 2
}
